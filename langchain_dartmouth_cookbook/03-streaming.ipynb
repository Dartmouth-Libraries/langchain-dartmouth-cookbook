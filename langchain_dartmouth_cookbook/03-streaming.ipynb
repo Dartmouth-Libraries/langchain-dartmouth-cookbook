{
 "cells": [
  {
   "cell_type": "markdown",
   "metadata": {},
   "source": [
    "# Streaming"
   ]
  },
  {
   "cell_type": "code",
   "execution_count": 1,
   "metadata": {},
   "outputs": [],
   "source": [
    "from langchain_dartmouth.llms import ChatDartmouth"
   ]
  },
  {
   "cell_type": "code",
   "execution_count": 2,
   "metadata": {},
   "outputs": [
    {
     "ename": "KeyError",
     "evalue": "'Dartmouth API key not provided as argument or defined as environment variable DARTMOUTH_API_KEY.'",
     "output_type": "error",
     "traceback": [
      "\u001b[0;31m---------------------------------------------------------------------------\u001b[0m",
      "\u001b[0;31mKeyError\u001b[0m                                  Traceback (most recent call last)",
      "Cell \u001b[0;32mIn[2], line 1\u001b[0m\n\u001b[0;32m----> 1\u001b[0m llm \u001b[38;5;241m=\u001b[39m \u001b[43mChatDartmouth\u001b[49m\u001b[43m(\u001b[49m\u001b[43mmodel_name\u001b[49m\u001b[38;5;241;43m=\u001b[39;49m\u001b[38;5;124;43m\"\u001b[39;49m\u001b[38;5;124;43mllama-3-1-8b-instruct\u001b[39;49m\u001b[38;5;124;43m\"\u001b[39;49m\u001b[43m,\u001b[49m\u001b[43m \u001b[49m\u001b[43mstreaming\u001b[49m\u001b[38;5;241;43m=\u001b[39;49m\u001b[38;5;28;43;01mTrue\u001b[39;49;00m\u001b[43m)\u001b[49m\n\u001b[1;32m      2\u001b[0m \u001b[38;5;28;01mfor\u001b[39;00m chunk \u001b[38;5;129;01min\u001b[39;00m llm\u001b[38;5;241m.\u001b[39mstream(\u001b[38;5;124m\"\u001b[39m\u001b[38;5;124mCan you tell me a short story?\u001b[39m\u001b[38;5;124m\"\u001b[39m):\n\u001b[1;32m      3\u001b[0m     \u001b[38;5;28mprint\u001b[39m(chunk\u001b[38;5;241m.\u001b[39mcontent, end\u001b[38;5;241m=\u001b[39m\u001b[38;5;124m\"\u001b[39m\u001b[38;5;124m\"\u001b[39m)\n",
      "File \u001b[0;32m~/source/langchain-dartmouth-cookbook/.venv/lib/python3.12/site-packages/langchain_dartmouth/llms.py:381\u001b[0m, in \u001b[0;36mChatDartmouth.__init__\u001b[0;34m(self, model_name, streaming, temperature, max_tokens, logprobs, stream_usage, presence_penalty, frequency_penalty, seed, top_logprobs, logit_bias, n, top_p, model_kwargs, dartmouth_api_key, authenticator, jwt_url, inference_server_url)\u001b[0m\n\u001b[1;32m    379\u001b[0m \u001b[38;5;28mself\u001b[39m\u001b[38;5;241m.\u001b[39mdartmouth_api_key \u001b[38;5;241m=\u001b[39m dartmouth_api_key\n\u001b[1;32m    380\u001b[0m \u001b[38;5;28mself\u001b[39m\u001b[38;5;241m.\u001b[39mjwt_url \u001b[38;5;241m=\u001b[39m jwt_url\n\u001b[0;32m--> 381\u001b[0m \u001b[38;5;28;43mself\u001b[39;49m\u001b[38;5;241;43m.\u001b[39;49m\u001b[43mauthenticate\u001b[49m\u001b[43m(\u001b[49m\u001b[43mjwt_url\u001b[49m\u001b[38;5;241;43m=\u001b[39;49m\u001b[38;5;28;43mself\u001b[39;49m\u001b[38;5;241;43m.\u001b[39;49m\u001b[43mjwt_url\u001b[49m\u001b[43m)\u001b[49m\n",
      "File \u001b[0;32m~/source/langchain-dartmouth-cookbook/.venv/lib/python3.12/site-packages/langchain_dartmouth/base.py:11\u001b[0m, in \u001b[0;36mAuthenticatedMixin.authenticate\u001b[0;34m(self, jwt_url)\u001b[0m\n\u001b[1;32m      9\u001b[0m     jwt \u001b[38;5;241m=\u001b[39m \u001b[38;5;28mself\u001b[39m\u001b[38;5;241m.\u001b[39mauthenticator()\n\u001b[1;32m     10\u001b[0m \u001b[38;5;28;01melse\u001b[39;00m:\n\u001b[0;32m---> 11\u001b[0m     jwt \u001b[38;5;241m=\u001b[39m \u001b[43mdartmouth_auth\u001b[49m\u001b[38;5;241;43m.\u001b[39;49m\u001b[43mget_jwt\u001b[49m\u001b[43m(\u001b[49m\n\u001b[1;32m     12\u001b[0m \u001b[43m        \u001b[49m\u001b[43mdartmouth_api_key\u001b[49m\u001b[38;5;241;43m=\u001b[39;49m\u001b[38;5;28;43mself\u001b[39;49m\u001b[38;5;241;43m.\u001b[39;49m\u001b[43mdartmouth_api_key\u001b[49m\u001b[43m,\u001b[49m\u001b[43m \u001b[49m\u001b[43mjwt_url\u001b[49m\u001b[38;5;241;43m=\u001b[39;49m\u001b[43mjwt_url\u001b[49m\n\u001b[1;32m     13\u001b[0m \u001b[43m    \u001b[49m\u001b[43m)\u001b[49m\n\u001b[1;32m     14\u001b[0m auth_header \u001b[38;5;241m=\u001b[39m {\u001b[38;5;124m\"\u001b[39m\u001b[38;5;124mAuthorization\u001b[39m\u001b[38;5;124m\"\u001b[39m: \u001b[38;5;124mf\u001b[39m\u001b[38;5;124m\"\u001b[39m\u001b[38;5;124mBearer \u001b[39m\u001b[38;5;132;01m{\u001b[39;00mjwt\u001b[38;5;132;01m}\u001b[39;00m\u001b[38;5;124m\"\u001b[39m}\n\u001b[1;32m     15\u001b[0m \u001b[38;5;28mself\u001b[39m\u001b[38;5;241m.\u001b[39m_set_extra_headers(auth_header)\n",
      "File \u001b[0;32m~/source/langchain-dartmouth-cookbook/.venv/lib/python3.12/site-packages/dartmouth_auth/jwt.py:36\u001b[0m, in \u001b[0;36mget_jwt\u001b[0;34m(dartmouth_api_key, jwt_url)\u001b[0m\n\u001b[1;32m     34\u001b[0m     \u001b[38;5;28;01mexcept\u001b[39;00m \u001b[38;5;167;01mException\u001b[39;00m:\n\u001b[1;32m     35\u001b[0m         \u001b[38;5;167;01mKeyError\u001b[39;00m(\u001b[38;5;124m\"\u001b[39m\u001b[38;5;124mCould not authenticate. Is your Dartmouth API key valid?\u001b[39m\u001b[38;5;124m\"\u001b[39m)\n\u001b[0;32m---> 36\u001b[0m \u001b[38;5;28;01mraise\u001b[39;00m \u001b[38;5;167;01mKeyError\u001b[39;00m(\n\u001b[1;32m     37\u001b[0m     \u001b[38;5;124mf\u001b[39m\u001b[38;5;124m\"\u001b[39m\u001b[38;5;124mDartmouth API key not provided as argument or defined as environment variable \u001b[39m\u001b[38;5;132;01m{\u001b[39;00mENV_NAMES[\u001b[38;5;124m'\u001b[39m\u001b[38;5;124mdartmouth_api_key\u001b[39m\u001b[38;5;124m'\u001b[39m]\u001b[38;5;132;01m}\u001b[39;00m\u001b[38;5;124m.\u001b[39m\u001b[38;5;124m\"\u001b[39m\n\u001b[1;32m     38\u001b[0m )\n",
      "\u001b[0;31mKeyError\u001b[0m: 'Dartmouth API key not provided as argument or defined as environment variable DARTMOUTH_API_KEY.'"
     ]
    }
   ],
   "source": [
    "llm = ChatDartmouth(model_name=\"llama-3-1-8b-instruct\", streaming=True)\n",
    "for chunk in llm.stream(\"Can you tell me a short story?\"):\n",
    "    print(chunk.content, end=\"\")"
   ]
  }
 ],
 "metadata": {
  "kernelspec": {
   "display_name": ".venv",
   "language": "python",
   "name": "python3"
  },
  "language_info": {
   "codemirror_mode": {
    "name": "ipython",
    "version": 3
   },
   "file_extension": ".py",
   "mimetype": "text/x-python",
   "name": "python",
   "nbconvert_exporter": "python",
   "pygments_lexer": "ipython3",
   "version": "3.12.5"
  }
 },
 "nbformat": 4,
 "nbformat_minor": 2
}
