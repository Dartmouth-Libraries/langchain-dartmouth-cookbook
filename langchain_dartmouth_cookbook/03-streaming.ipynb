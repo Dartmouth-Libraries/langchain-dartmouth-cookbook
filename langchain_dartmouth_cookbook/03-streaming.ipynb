{
 "cells": [
  {
   "cell_type": "markdown",
   "metadata": {},
   "source": [
    "# Streaming"
   ]
  },
  {
   "cell_type": "code",
   "execution_count": 3,
   "metadata": {},
   "outputs": [],
   "source": [
    "from langchain_dartmouth.llms import ChatDartmouth"
   ]
  },
  {
   "cell_type": "code",
   "execution_count": 4,
   "metadata": {},
   "outputs": [
    {
     "name": "stdout",
     "output_type": "stream",
     "text": [
      "I'd be happy to spin you a yarn. Here's a short story:\n",
      "\n",
      "**The Island of Lost Memories**\n",
      "\n",
      "In a small, secluded village, there was a mysterious island known only as \"The Place Where Memories Go.\" The villagers believed that anyone who set foot on the island would forget their past, their loved ones, and even their own identity.\n",
      "\n",
      "One day, a young woman named Sophia decided to visit the island. She had been plagued by a strange amnesia for weeks, and she hoped that the island's supposed magical properties would help her remember who she was and why she was there.\n",
      "\n",
      "As Sophia stepped onto the island's sandy shores, a sudden gust of wind swept over her, carrying with it the whispers of forgotten memories. She felt a strange tingling sensation in her mind, like her brain was a maze that was slowly unlocking its secrets.\n",
      "\n",
      "Sophia wandered the island's winding paths, marveling at the strange, glowing plants that grew in every direction. She stumbled upon an ancient, crumbling temple, its entrance guarded by a pair of stone statues with faces like worn-out photographs.\n",
      "\n",
      "As she approached the temple, Sophia felt a sudden jolt of recognition. She remembered a love letter she had written to someone named Alex, a warm summer day, and the sound of seagulls crying in the distance.\n",
      "\n",
      "Sophia's heart ached as she realized that she had forgotten so much more. She saw a vision of a festive dinner table, a birthday cake with candles, and a family laughing together. Tears streamed down her face as she felt the weight of her lost memories bearing down on her.\n",
      "\n",
      "Just as Sophia was about to give up hope, an elderly woman appeared beside her. The woman's face was lined with age, but her eyes sparkled with kindness.\n",
      "\n",
      "\"Welcome to The Place Where Memories Go,\" the woman said, her voice barely above a whisper. \"But remember, memories are not lost, only misplaced. They are hidden, waiting to be rediscovered.\"\n",
      "\n",
      "Sophia's mind reeled as the woman handed her a small, delicate box. Inside, Sophia found a tiny key, a locket with a photograph of Alex, and a note with a single sentence: \"Remember the way home.\"\n",
      "\n",
      "As Sophia left the island, she felt her mind clearing, her memories flooding back like a rushing tide. She remembered who she was, where she came from, and why she was there. She knew that she would never forget again, and that the island's secrets would stay with her forever.\n",
      "\n",
      "I hope you enjoyed the story"
     ]
    }
   ],
   "source": [
    "llm = ChatDartmouth(model_name=\"llama-3-1-8b-instruct\", streaming=True)\n",
    "for chunk in llm.stream(\"Can you tell me a short story?\"):\n",
    "    print(chunk.content, end=\"\")"
   ]
  }
 ],
 "metadata": {
  "kernelspec": {
   "display_name": ".venv",
   "language": "python",
   "name": "python3"
  },
  "language_info": {
   "codemirror_mode": {
    "name": "ipython",
    "version": 3
   },
   "file_extension": ".py",
   "mimetype": "text/x-python",
   "name": "python",
   "nbconvert_exporter": "python",
   "pygments_lexer": "ipython3",
   "version": "3.10.8"
  }
 },
 "nbformat": 4,
 "nbformat_minor": 2
}
